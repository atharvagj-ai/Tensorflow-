{
  "nbformat": 4,
  "nbformat_minor": 0,
  "metadata": {
    "kernelspec": {
      "display_name": "Python 3",
      "language": "python",
      "name": "python3"
    },
    "language_info": {
      "codemirror_mode": {
        "name": "ipython",
        "version": 3
      },
      "file_extension": ".py",
      "mimetype": "text/x-python",
      "name": "python",
      "nbconvert_exporter": "python",
      "pygments_lexer": "ipython3",
      "version": "3.7.3"
    },
    "colab": {
      "name": "Tf-Predicting House Prices with Regression.ipynb",
      "provenance": [],
      "collapsed_sections": []
    }
  },
  "cells": [
    {
      "cell_type": "markdown",
      "metadata": {
        "id": "pR897VKvE9AW",
        "colab_type": "text"
      },
      "source": [
        "\n",
        "For this project, I am going to work on evaluating price of houses given the following features:\n",
        "\n",
        "1. Year of sale of the house\n",
        "2. The age of the house at the time of sale\n",
        "3. Distance from city center\n",
        "4. Number of stores in the locality\n",
        "5. The latitude\n",
        "6. The longitude\n",
        "\n",
        "![Regression](images/regression.png)\n",
        "\n",
        "Note: This notebook uses `python 3` and these packages: `tensorflow`, `pandas`, `matplotlib`, `scikit-learn`."
      ]
    },
    {
      "cell_type": "markdown",
      "metadata": {
        "id": "E1VxbHseE9Ac",
        "colab_type": "text"
      },
      "source": [
        "\n",
        "First of all, we will need to import some libraries and helper functions. This includes TensorFlow and some utility functions that I've written to save time."
      ]
    },
    {
      "cell_type": "code",
      "metadata": {
        "id": "X6BTKVioE9Ai",
        "colab_type": "code",
        "colab": {
          "base_uri": "https://localhost:8080/",
          "height": 36
        },
        "outputId": "b728001b-39f7-484d-bf49-c039f474102a"
      },
      "source": [
        "import pandas as pd\n",
        "import matplotlib.pyplot as plt\n",
        "import tensorflow as tf\n",
        "\n",
        "from utils import *\n",
        "from sklearn.model_selection import train_test_split\n",
        "from tensorflow.keras.models import Sequential\n",
        "from tensorflow.keras.layers import Dense, Dropout\n",
        "from tensorflow.keras.callbacks import EarlyStopping, LambdaCallback\n",
        "\n",
        "%matplotlib inline\n",
        "#tf.logging.set_verbosity(tf.logging.ERROR)\n",
        "\n",
        "print('Libraries imported.')"
      ],
      "execution_count": 36,
      "outputs": [
        {
          "output_type": "stream",
          "text": [
            "Libraries imported.\n"
          ],
          "name": "stdout"
        }
      ]
    },
    {
      "cell_type": "markdown",
      "metadata": {
        "id": "MDMVu0IZE9Be",
        "colab_type": "text"
      },
      "source": [
        "\n",
        "The dataset is saved in a `data.csv` file. We will use `pandas` to take a look at some of the rows."
      ]
    },
    {
      "cell_type": "code",
      "metadata": {
        "id": "gQywIemwE9Bi",
        "colab_type": "code",
        "colab": {
          "base_uri": "https://localhost:8080/",
          "height": 206
        },
        "outputId": "676bf9ef-36c5-43cb-df3d-a488a7b63efb"
      },
      "source": [
        "data = pd.read_csv(\"data.csv\", names = column_names)\n",
        "data.head()"
      ],
      "execution_count": 37,
      "outputs": [
        {
          "output_type": "execute_result",
          "data": {
            "text/html": [
              "<div>\n",
              "<style scoped>\n",
              "    .dataframe tbody tr th:only-of-type {\n",
              "        vertical-align: middle;\n",
              "    }\n",
              "\n",
              "    .dataframe tbody tr th {\n",
              "        vertical-align: top;\n",
              "    }\n",
              "\n",
              "    .dataframe thead th {\n",
              "        text-align: right;\n",
              "    }\n",
              "</style>\n",
              "<table border=\"1\" class=\"dataframe\">\n",
              "  <thead>\n",
              "    <tr style=\"text-align: right;\">\n",
              "      <th></th>\n",
              "      <th>serial</th>\n",
              "      <th>date</th>\n",
              "      <th>age</th>\n",
              "      <th>distance</th>\n",
              "      <th>stores</th>\n",
              "      <th>latitude</th>\n",
              "      <th>longitude</th>\n",
              "      <th>price</th>\n",
              "    </tr>\n",
              "  </thead>\n",
              "  <tbody>\n",
              "    <tr>\n",
              "      <th>0</th>\n",
              "      <td>0</td>\n",
              "      <td>2009</td>\n",
              "      <td>21</td>\n",
              "      <td>9</td>\n",
              "      <td>6</td>\n",
              "      <td>84</td>\n",
              "      <td>121</td>\n",
              "      <td>14264</td>\n",
              "    </tr>\n",
              "    <tr>\n",
              "      <th>1</th>\n",
              "      <td>1</td>\n",
              "      <td>2007</td>\n",
              "      <td>4</td>\n",
              "      <td>2</td>\n",
              "      <td>3</td>\n",
              "      <td>86</td>\n",
              "      <td>121</td>\n",
              "      <td>12032</td>\n",
              "    </tr>\n",
              "    <tr>\n",
              "      <th>2</th>\n",
              "      <td>2</td>\n",
              "      <td>2016</td>\n",
              "      <td>18</td>\n",
              "      <td>3</td>\n",
              "      <td>7</td>\n",
              "      <td>90</td>\n",
              "      <td>120</td>\n",
              "      <td>13560</td>\n",
              "    </tr>\n",
              "    <tr>\n",
              "      <th>3</th>\n",
              "      <td>3</td>\n",
              "      <td>2002</td>\n",
              "      <td>13</td>\n",
              "      <td>2</td>\n",
              "      <td>2</td>\n",
              "      <td>80</td>\n",
              "      <td>128</td>\n",
              "      <td>12029</td>\n",
              "    </tr>\n",
              "    <tr>\n",
              "      <th>4</th>\n",
              "      <td>4</td>\n",
              "      <td>2014</td>\n",
              "      <td>25</td>\n",
              "      <td>5</td>\n",
              "      <td>8</td>\n",
              "      <td>81</td>\n",
              "      <td>122</td>\n",
              "      <td>14157</td>\n",
              "    </tr>\n",
              "  </tbody>\n",
              "</table>\n",
              "</div>"
            ],
            "text/plain": [
              "   serial  date  age  distance  stores  latitude  longitude  price\n",
              "0       0  2009   21         9       6        84        121  14264\n",
              "1       1  2007    4         2       3        86        121  12032\n",
              "2       2  2016   18         3       7        90        120  13560\n",
              "3       3  2002   13         2       2        80        128  12029\n",
              "4       4  2014   25         5       8        81        122  14157"
            ]
          },
          "metadata": {
            "tags": []
          },
          "execution_count": 37
        }
      ]
    },
    {
      "cell_type": "markdown",
      "metadata": {
        "id": "acJ4mmwmE9B1",
        "colab_type": "text"
      },
      "source": [
        "\n",
        "\n",
        "It's a good practice to check if the data has any missing values. In real world data, this is quite common and must be taken care of before any data pre-processing or model training."
      ]
    },
    {
      "cell_type": "code",
      "metadata": {
        "id": "ik59aiF_E9B6",
        "colab_type": "code",
        "colab": {
          "base_uri": "https://localhost:8080/",
          "height": 185
        },
        "outputId": "75ffbea4-86e3-4c17-ce74-47a2104d68d0"
      },
      "source": [
        "data.isna().sum()"
      ],
      "execution_count": 38,
      "outputs": [
        {
          "output_type": "execute_result",
          "data": {
            "text/plain": [
              "serial       0\n",
              "date         0\n",
              "age          0\n",
              "distance     0\n",
              "stores       0\n",
              "latitude     0\n",
              "longitude    0\n",
              "price        0\n",
              "dtype: int64"
            ]
          },
          "metadata": {
            "tags": []
          },
          "execution_count": 38
        }
      ]
    },
    {
      "cell_type": "markdown",
      "metadata": {
        "id": "YXRuEjEHE9Ce",
        "colab_type": "text"
      },
      "source": [
        "\n",
        "We can make it easier for optimization algorithms to find minimas by normalizing the data before training a model."
      ]
    },
    {
      "cell_type": "code",
      "metadata": {
        "id": "6YujddzSE9Ci",
        "colab_type": "code",
        "colab": {
          "base_uri": "https://localhost:8080/",
          "height": 206
        },
        "outputId": "5aa3841d-f7ca-4846-a623-f130dab9436d"
      },
      "source": [
        "df = data.iloc[:,1:]\n",
        "df_normalized = (df - df.mean())/df.std()\n",
        "df_normalized.head()"
      ],
      "execution_count": 39,
      "outputs": [
        {
          "output_type": "execute_result",
          "data": {
            "text/html": [
              "<div>\n",
              "<style scoped>\n",
              "    .dataframe tbody tr th:only-of-type {\n",
              "        vertical-align: middle;\n",
              "    }\n",
              "\n",
              "    .dataframe tbody tr th {\n",
              "        vertical-align: top;\n",
              "    }\n",
              "\n",
              "    .dataframe thead th {\n",
              "        text-align: right;\n",
              "    }\n",
              "</style>\n",
              "<table border=\"1\" class=\"dataframe\">\n",
              "  <thead>\n",
              "    <tr style=\"text-align: right;\">\n",
              "      <th></th>\n",
              "      <th>date</th>\n",
              "      <th>age</th>\n",
              "      <th>distance</th>\n",
              "      <th>stores</th>\n",
              "      <th>latitude</th>\n",
              "      <th>longitude</th>\n",
              "      <th>price</th>\n",
              "    </tr>\n",
              "  </thead>\n",
              "  <tbody>\n",
              "    <tr>\n",
              "      <th>0</th>\n",
              "      <td>0.015978</td>\n",
              "      <td>0.181384</td>\n",
              "      <td>1.257002</td>\n",
              "      <td>0.345224</td>\n",
              "      <td>-0.307212</td>\n",
              "      <td>-1.260799</td>\n",
              "      <td>0.350088</td>\n",
              "    </tr>\n",
              "    <tr>\n",
              "      <th>1</th>\n",
              "      <td>-0.350485</td>\n",
              "      <td>-1.319118</td>\n",
              "      <td>-0.930610</td>\n",
              "      <td>-0.609312</td>\n",
              "      <td>0.325301</td>\n",
              "      <td>-1.260799</td>\n",
              "      <td>-1.836486</td>\n",
              "    </tr>\n",
              "    <tr>\n",
              "      <th>2</th>\n",
              "      <td>1.298598</td>\n",
              "      <td>-0.083410</td>\n",
              "      <td>-0.618094</td>\n",
              "      <td>0.663402</td>\n",
              "      <td>1.590328</td>\n",
              "      <td>-1.576456</td>\n",
              "      <td>-0.339584</td>\n",
              "    </tr>\n",
              "    <tr>\n",
              "      <th>3</th>\n",
              "      <td>-1.266643</td>\n",
              "      <td>-0.524735</td>\n",
              "      <td>-0.930610</td>\n",
              "      <td>-0.927491</td>\n",
              "      <td>-1.572238</td>\n",
              "      <td>0.948803</td>\n",
              "      <td>-1.839425</td>\n",
              "    </tr>\n",
              "    <tr>\n",
              "      <th>4</th>\n",
              "      <td>0.932135</td>\n",
              "      <td>0.534444</td>\n",
              "      <td>0.006938</td>\n",
              "      <td>0.981581</td>\n",
              "      <td>-1.255981</td>\n",
              "      <td>-0.945141</td>\n",
              "      <td>0.245266</td>\n",
              "    </tr>\n",
              "  </tbody>\n",
              "</table>\n",
              "</div>"
            ],
            "text/plain": [
              "       date       age  distance    stores  latitude  longitude     price\n",
              "0  0.015978  0.181384  1.257002  0.345224 -0.307212  -1.260799  0.350088\n",
              "1 -0.350485 -1.319118 -0.930610 -0.609312  0.325301  -1.260799 -1.836486\n",
              "2  1.298598 -0.083410 -0.618094  0.663402  1.590328  -1.576456 -0.339584\n",
              "3 -1.266643 -0.524735 -0.930610 -0.927491 -1.572238   0.948803 -1.839425\n",
              "4  0.932135  0.534444  0.006938  0.981581 -1.255981  -0.945141  0.245266"
            ]
          },
          "metadata": {
            "tags": []
          },
          "execution_count": 39
        }
      ]
    },
    {
      "cell_type": "code",
      "metadata": {
        "id": "027JKvyZH0-_",
        "colab_type": "code",
        "colab": {
          "base_uri": "https://localhost:8080/",
          "height": 300
        },
        "outputId": "436cfdbe-cd80-48db-bb08-fea5667a8a49"
      },
      "source": [
        "df_normalized.describe()"
      ],
      "execution_count": 40,
      "outputs": [
        {
          "output_type": "execute_result",
          "data": {
            "text/html": [
              "<div>\n",
              "<style scoped>\n",
              "    .dataframe tbody tr th:only-of-type {\n",
              "        vertical-align: middle;\n",
              "    }\n",
              "\n",
              "    .dataframe tbody tr th {\n",
              "        vertical-align: top;\n",
              "    }\n",
              "\n",
              "    .dataframe thead th {\n",
              "        text-align: right;\n",
              "    }\n",
              "</style>\n",
              "<table border=\"1\" class=\"dataframe\">\n",
              "  <thead>\n",
              "    <tr style=\"text-align: right;\">\n",
              "      <th></th>\n",
              "      <th>date</th>\n",
              "      <th>age</th>\n",
              "      <th>distance</th>\n",
              "      <th>stores</th>\n",
              "      <th>latitude</th>\n",
              "      <th>longitude</th>\n",
              "      <th>price</th>\n",
              "    </tr>\n",
              "  </thead>\n",
              "  <tbody>\n",
              "    <tr>\n",
              "      <th>count</th>\n",
              "      <td>5.000000e+03</td>\n",
              "      <td>5.000000e+03</td>\n",
              "      <td>5.000000e+03</td>\n",
              "      <td>5.000000e+03</td>\n",
              "      <td>5.000000e+03</td>\n",
              "      <td>5.000000e+03</td>\n",
              "      <td>5.000000e+03</td>\n",
              "    </tr>\n",
              "    <tr>\n",
              "      <th>mean</th>\n",
              "      <td>-1.116383e-14</td>\n",
              "      <td>3.765876e-17</td>\n",
              "      <td>-6.514789e-17</td>\n",
              "      <td>-1.620926e-17</td>\n",
              "      <td>-7.352341e-16</td>\n",
              "      <td>-2.087108e-15</td>\n",
              "      <td>-2.451372e-16</td>\n",
              "    </tr>\n",
              "    <tr>\n",
              "      <th>std</th>\n",
              "      <td>1.000000e+00</td>\n",
              "      <td>1.000000e+00</td>\n",
              "      <td>1.000000e+00</td>\n",
              "      <td>1.000000e+00</td>\n",
              "      <td>1.000000e+00</td>\n",
              "      <td>1.000000e+00</td>\n",
              "      <td>1.000000e+00</td>\n",
              "    </tr>\n",
              "    <tr>\n",
              "      <th>min</th>\n",
              "      <td>-1.633106e+00</td>\n",
              "      <td>-1.672178e+00</td>\n",
              "      <td>-1.555642e+00</td>\n",
              "      <td>-1.563848e+00</td>\n",
              "      <td>-1.572238e+00</td>\n",
              "      <td>-1.576456e+00</td>\n",
              "      <td>-2.589835e+00</td>\n",
              "    </tr>\n",
              "    <tr>\n",
              "      <th>25%</th>\n",
              "      <td>-9.001796e-01</td>\n",
              "      <td>-8.777939e-01</td>\n",
              "      <td>-9.306100e-01</td>\n",
              "      <td>-9.274906e-01</td>\n",
              "      <td>-9.397246e-01</td>\n",
              "      <td>-9.451413e-01</td>\n",
              "      <td>-6.944613e-01</td>\n",
              "    </tr>\n",
              "    <tr>\n",
              "      <th>50%</th>\n",
              "      <td>1.597778e-02</td>\n",
              "      <td>4.854567e-03</td>\n",
              "      <td>6.937854e-03</td>\n",
              "      <td>2.704518e-02</td>\n",
              "      <td>9.044936e-03</td>\n",
              "      <td>1.830813e-03</td>\n",
              "      <td>-1.287120e-02</td>\n",
              "    </tr>\n",
              "    <tr>\n",
              "      <th>75%</th>\n",
              "      <td>9.321352e-01</td>\n",
              "      <td>8.875030e-01</td>\n",
              "      <td>9.444857e-01</td>\n",
              "      <td>9.815810e-01</td>\n",
              "      <td>9.578145e-01</td>\n",
              "      <td>9.488029e-01</td>\n",
              "      <td>6.929651e-01</td>\n",
              "    </tr>\n",
              "    <tr>\n",
              "      <th>max</th>\n",
              "      <td>1.665061e+00</td>\n",
              "      <td>1.681887e+00</td>\n",
              "      <td>1.569518e+00</td>\n",
              "      <td>1.617938e+00</td>\n",
              "      <td>1.590328e+00</td>\n",
              "      <td>1.580118e+00</td>\n",
              "      <td>2.995138e+00</td>\n",
              "    </tr>\n",
              "  </tbody>\n",
              "</table>\n",
              "</div>"
            ],
            "text/plain": [
              "               date           age  ...     longitude         price\n",
              "count  5.000000e+03  5.000000e+03  ...  5.000000e+03  5.000000e+03\n",
              "mean  -1.116383e-14  3.765876e-17  ... -2.087108e-15 -2.451372e-16\n",
              "std    1.000000e+00  1.000000e+00  ...  1.000000e+00  1.000000e+00\n",
              "min   -1.633106e+00 -1.672178e+00  ... -1.576456e+00 -2.589835e+00\n",
              "25%   -9.001796e-01 -8.777939e-01  ... -9.451413e-01 -6.944613e-01\n",
              "50%    1.597778e-02  4.854567e-03  ...  1.830813e-03 -1.287120e-02\n",
              "75%    9.321352e-01  8.875030e-01  ...  9.488029e-01  6.929651e-01\n",
              "max    1.665061e+00  1.681887e+00  ...  1.580118e+00  2.995138e+00\n",
              "\n",
              "[8 rows x 7 columns]"
            ]
          },
          "metadata": {
            "tags": []
          },
          "execution_count": 40
        }
      ]
    },
    {
      "cell_type": "markdown",
      "metadata": {
        "id": "9Qg0iYcYj7m_",
        "colab_type": "text"
      },
      "source": [
        "Equal Standard deviation of all the columns shows our data is properly normalized."
      ]
    },
    {
      "cell_type": "markdown",
      "metadata": {
        "id": "xlBlLEIkE9C7",
        "colab_type": "text"
      },
      "source": [
        "###  Convert Label Value\n",
        "\n",
        "Because we are using normalized values for the labels, we will get the predictions back from a trained model in the same distribution. So, we need to convert the predicted values back to the original distribution if we want predicted prices."
      ]
    },
    {
      "cell_type": "code",
      "metadata": {
        "id": "h_VFkC3LE9C_",
        "colab_type": "code",
        "colab": {}
      },
      "source": [
        "y_mean = df['price'].mean()\n",
        "y_std = df['price'].std()\n",
        "\n",
        "def convert_label_values (pred):\n",
        "  return int(pred * y_std + y_mean)"
      ],
      "execution_count": 0,
      "outputs": []
    },
    {
      "cell_type": "code",
      "metadata": {
        "id": "o9BnKs_5JcOX",
        "colab_type": "code",
        "colab": {
          "base_uri": "https://localhost:8080/",
          "height": 36
        },
        "outputId": "78daff71-473c-4917-d5fc-6d459a43c630"
      },
      "source": [
        "#testing_function\n",
        "print(convert_label_values(0.350088))"
      ],
      "execution_count": 42,
      "outputs": [
        {
          "output_type": "stream",
          "text": [
            "14263\n"
          ],
          "name": "stdout"
        }
      ]
    },
    {
      "cell_type": "markdown",
      "metadata": {
        "id": "hBqqq9ZWJ4XP",
        "colab_type": "text"
      },
      "source": [
        "  14263 =~ 14264\n",
        "  Hence we say our function works good enough!\n",
        "\n",
        "(=~ means almost/nearly equal to)"
      ]
    },
    {
      "cell_type": "markdown",
      "metadata": {
        "id": "9-fXvnfUE9DR",
        "colab_type": "text"
      },
      "source": [
        "### Create Training and Test Sets"
      ]
    },
    {
      "cell_type": "markdown",
      "metadata": {
        "id": "lBWcDjiXE9DT",
        "colab_type": "text"
      },
      "source": [
        "### Select Features\n"
      ]
    },
    {
      "cell_type": "code",
      "metadata": {
        "id": "XDnD8ZexE9DV",
        "colab_type": "code",
        "colab": {}
      },
      "source": [
        "X = df_normalized.iloc[:,:6].values\n",
        "y = df_normalized.iloc[:,6].values"
      ],
      "execution_count": 0,
      "outputs": []
    },
    {
      "cell_type": "markdown",
      "metadata": {
        "id": "-al5_PoHE9Dh",
        "colab_type": "text"
      },
      "source": [
        "### Checking shapes"
      ]
    },
    {
      "cell_type": "code",
      "metadata": {
        "id": "sxsf9fgKE9Di",
        "colab_type": "code",
        "colab": {
          "base_uri": "https://localhost:8080/",
          "height": 54
        },
        "outputId": "3ec5ab3f-fea3-4b96-dbcf-5221dd7643b5"
      },
      "source": [
        "print(\"The shape of features array is\", X.shape)\n",
        "print(\"The shape of labels array is\", y.shape)"
      ],
      "execution_count": 20,
      "outputs": [
        {
          "output_type": "stream",
          "text": [
            "The shape of features array is (5000, 6)\n",
            "The shape of labels array is (5000,)\n"
          ],
          "name": "stdout"
        }
      ]
    },
    {
      "cell_type": "markdown",
      "metadata": {
        "id": "PUR_UJVEE9EB",
        "colab_type": "text"
      },
      "source": [
        "### Train and Test Split\n",
        "\n",
        "We will keep some part of the data aside as a __test__ set. The model will not use this set during training and it will be used only for checking the performance of the model in trained and un-trained states. This way, we can make sure that we are going in the right direction with our model training."
      ]
    },
    {
      "cell_type": "code",
      "metadata": {
        "id": "XjSQM7iVE9EE",
        "colab_type": "code",
        "colab": {
          "base_uri": "https://localhost:8080/",
          "height": 54
        },
        "outputId": "7b3c3dca-3644-41f0-db5a-b0b9d4e2eb57"
      },
      "source": [
        "x_train, x_test, y_train, y_test = train_test_split(X, y, test_size = 0.1)\n",
        "\n",
        "print(\"The shape of the Training set: \", x_train.shape, y_train.shape)\n",
        "print(\"The shape of the Test set: \", x_test.shape, y_test.shape)"
      ],
      "execution_count": 44,
      "outputs": [
        {
          "output_type": "stream",
          "text": [
            "The shape of the Training set:  (4500, 6) (4500,)\n",
            "The shape of the Test set:  (500, 6) (500,)\n"
          ],
          "name": "stdout"
        }
      ]
    },
    {
      "cell_type": "markdown",
      "metadata": {
        "id": "h-1CtRAlE9EU",
        "colab_type": "text"
      },
      "source": [
        "# Create the Model"
      ]
    },
    {
      "cell_type": "markdown",
      "metadata": {
        "id": "sx6SQ-JbE9EW",
        "colab_type": "text"
      },
      "source": [
        "### Create the Model\n",
        "\n",
        "Let's write a function that returns an untrained model of a certain architecture."
      ]
    },
    {
      "cell_type": "code",
      "metadata": {
        "id": "0sUWb7KNE9EY",
        "colab_type": "code",
        "colab": {
          "base_uri": "https://localhost:8080/",
          "height": 316
        },
        "outputId": "4e04d020-3d08-42da-b085-6c7301c68b90"
      },
      "source": [
        "def get_model():\n",
        "  model = Sequential([\n",
        "                 Dense(10, input_shape = (6,), activation = 'relu'),\n",
        "                 Dense(20, activation = 'relu'),\n",
        "                 Dense(5, activation = 'relu'),  \n",
        "                 Dense(1)\n",
        "           ])\n",
        "  model.compile(loss='mse', optimizer = 'adam', )\n",
        "  return model\n",
        "\n",
        "get_model().summary()"
      ],
      "execution_count": 45,
      "outputs": [
        {
          "output_type": "stream",
          "text": [
            "Model: \"sequential_4\"\n",
            "_________________________________________________________________\n",
            "Layer (type)                 Output Shape              Param #   \n",
            "=================================================================\n",
            "dense_16 (Dense)             (None, 10)                70        \n",
            "_________________________________________________________________\n",
            "dense_17 (Dense)             (None, 20)                220       \n",
            "_________________________________________________________________\n",
            "dense_18 (Dense)             (None, 5)                 105       \n",
            "_________________________________________________________________\n",
            "dense_19 (Dense)             (None, 1)                 6         \n",
            "=================================================================\n",
            "Total params: 401\n",
            "Trainable params: 401\n",
            "Non-trainable params: 0\n",
            "_________________________________________________________________\n"
          ],
          "name": "stdout"
        }
      ]
    },
    {
      "cell_type": "markdown",
      "metadata": {
        "id": "cS0DS702E9Eo",
        "colab_type": "text"
      },
      "source": [
        "#Model Training"
      ]
    },
    {
      "cell_type": "markdown",
      "metadata": {
        "id": "MQmUDS8sE9Er",
        "colab_type": "text"
      },
      "source": [
        "\n",
        "\n",
        "We can use an `EarlyStopping` callback from Keras to stop the model training if the validation loss stops decreasing for a few epochs."
      ]
    },
    {
      "cell_type": "code",
      "metadata": {
        "id": "V0WK67u0E9Es",
        "colab_type": "code",
        "colab": {
          "base_uri": "https://localhost:8080/",
          "height": 1000
        },
        "outputId": "6ca05316-8f5c-423e-d527-31fe0ba18328"
      },
      "source": [
        "es_cb = EarlyStopping(monitor='val_loss', patience=5)\n",
        "model = get_model()\n",
        "preds_on_untrained = model.predict(x_test)\n",
        "\n",
        "history = model.fit(\n",
        "    x_train, y_train,\n",
        "    validation_data = (x_test, y_test),\n",
        "    epochs = 100, \n",
        "    callbacks = [es_cb]\n",
        ")"
      ],
      "execution_count": 46,
      "outputs": [
        {
          "output_type": "stream",
          "text": [
            "Epoch 1/100\n",
            "141/141 [==============================] - 0s 2ms/step - loss: 0.5343 - val_loss: 0.2614\n",
            "Epoch 2/100\n",
            "141/141 [==============================] - 0s 1ms/step - loss: 0.2168 - val_loss: 0.1987\n",
            "Epoch 3/100\n",
            "141/141 [==============================] - 0s 2ms/step - loss: 0.1858 - val_loss: 0.1783\n",
            "Epoch 4/100\n",
            "141/141 [==============================] - 0s 1ms/step - loss: 0.1743 - val_loss: 0.1725\n",
            "Epoch 5/100\n",
            "141/141 [==============================] - 0s 1ms/step - loss: 0.1695 - val_loss: 0.1692\n",
            "Epoch 6/100\n",
            "141/141 [==============================] - 0s 2ms/step - loss: 0.1656 - val_loss: 0.1676\n",
            "Epoch 7/100\n",
            "141/141 [==============================] - 0s 2ms/step - loss: 0.1628 - val_loss: 0.1637\n",
            "Epoch 8/100\n",
            "141/141 [==============================] - 0s 2ms/step - loss: 0.1610 - val_loss: 0.1596\n",
            "Epoch 9/100\n",
            "141/141 [==============================] - 0s 1ms/step - loss: 0.1600 - val_loss: 0.1628\n",
            "Epoch 10/100\n",
            "141/141 [==============================] - 0s 1ms/step - loss: 0.1593 - val_loss: 0.1582\n",
            "Epoch 11/100\n",
            "141/141 [==============================] - 0s 1ms/step - loss: 0.1589 - val_loss: 0.1592\n",
            "Epoch 12/100\n",
            "141/141 [==============================] - 0s 2ms/step - loss: 0.1571 - val_loss: 0.1590\n",
            "Epoch 13/100\n",
            "141/141 [==============================] - 0s 2ms/step - loss: 0.1570 - val_loss: 0.1574\n",
            "Epoch 14/100\n",
            "141/141 [==============================] - 0s 1ms/step - loss: 0.1557 - val_loss: 0.1574\n",
            "Epoch 15/100\n",
            "141/141 [==============================] - 0s 1ms/step - loss: 0.1557 - val_loss: 0.1548\n",
            "Epoch 16/100\n",
            "141/141 [==============================] - 0s 1ms/step - loss: 0.1552 - val_loss: 0.1576\n",
            "Epoch 17/100\n",
            "141/141 [==============================] - 0s 2ms/step - loss: 0.1545 - val_loss: 0.1557\n",
            "Epoch 18/100\n",
            "141/141 [==============================] - 0s 1ms/step - loss: 0.1537 - val_loss: 0.1522\n",
            "Epoch 19/100\n",
            "141/141 [==============================] - 0s 1ms/step - loss: 0.1544 - val_loss: 0.1534\n",
            "Epoch 20/100\n",
            "141/141 [==============================] - 0s 1ms/step - loss: 0.1535 - val_loss: 0.1534\n",
            "Epoch 21/100\n",
            "141/141 [==============================] - 0s 1ms/step - loss: 0.1529 - val_loss: 0.1521\n",
            "Epoch 22/100\n",
            "141/141 [==============================] - 0s 1ms/step - loss: 0.1527 - val_loss: 0.1517\n",
            "Epoch 23/100\n",
            "141/141 [==============================] - 0s 1ms/step - loss: 0.1519 - val_loss: 0.1538\n",
            "Epoch 24/100\n",
            "141/141 [==============================] - 0s 1ms/step - loss: 0.1518 - val_loss: 0.1534\n",
            "Epoch 25/100\n",
            "141/141 [==============================] - 0s 2ms/step - loss: 0.1519 - val_loss: 0.1539\n",
            "Epoch 26/100\n",
            "141/141 [==============================] - 0s 1ms/step - loss: 0.1519 - val_loss: 0.1529\n",
            "Epoch 27/100\n",
            "141/141 [==============================] - 0s 1ms/step - loss: 0.1508 - val_loss: 0.1575\n"
          ],
          "name": "stdout"
        }
      ]
    },
    {
      "cell_type": "markdown",
      "metadata": {
        "id": "XWZvVHIjE9E3",
        "colab_type": "text"
      },
      "source": [
        "###Plot Training and Validation Loss\n",
        "\n",
        "Let's use the `plot_loss` helper function to take a look training and validation loss."
      ]
    },
    {
      "cell_type": "code",
      "metadata": {
        "id": "Q2V3bpFwE9E5",
        "colab_type": "code",
        "colab": {
          "base_uri": "https://localhost:8080/",
          "height": 497
        },
        "outputId": "d2007ca4-9045-4347-cff8-b865fec2a1fe"
      },
      "source": [
        "plot_loss(history)"
      ],
      "execution_count": 47,
      "outputs": [
        {
          "output_type": "display_data",
          "data": {
            "image/png": "[encoded data removed]",
            "text/plain": [
              "<Figure size 576x576 with 1 Axes>"
            ]
          },
          "metadata": {
            "tags": [],
            "needs_background": "light"
          }
        }
      ]
    },
    {
      "cell_type": "markdown",
      "metadata": {
        "id": "t52VeYVKlQWk",
        "colab_type": "text"
      },
      "source": [
        "We can observe our model is perfproming really well. It has minimized the loss fuction perfectly."
      ]
    },
    {
      "cell_type": "markdown",
      "metadata": {
        "id": "8Fne1tq7E9FH",
        "colab_type": "text"
      },
      "source": [
        "# Predictions"
      ]
    },
    {
      "cell_type": "markdown",
      "metadata": {
        "id": "Kws3b4dzE9FK",
        "colab_type": "text"
      },
      "source": [
        "##  Plot Raw Predictions\n",
        "\n",
        "Let's use the `compare_predictions` helper function to compare predictions from the model when it was untrained and when it was trained."
      ]
    },
    {
      "cell_type": "code",
      "metadata": {
        "id": "7LrfZZ6XE9FM",
        "colab_type": "code",
        "colab": {
          "base_uri": "https://localhost:8080/",
          "height": 497
        },
        "outputId": "7a0ae76d-0e66-4dc8-cf88-4ea0950b045d"
      },
      "source": [
        "preds_on_trained_model = model.predict(x_test)\n",
        "compare_predictions(preds_on_untrained, preds_on_trained_model, y_test)"
      ],
      "execution_count": 48,
      "outputs": [
        {
          "output_type": "display_data",
          "data": {
            "image/png": "[encoded data removed]",
            "text/plain": [
              "<Figure size 576x576 with 1 Axes>"
            ]
          },
          "metadata": {
            "tags": [],
            "needs_background": "light"
          }
        }
      ]
    },
    {
      "cell_type": "markdown",
      "metadata": {
        "id": "PUUphzZATL_c",
        "colab_type": "text"
      },
      "source": [
        "The linear pattern of predicted model is clearly visible in green color, while the red color depicts the random predictions by untrained model."
      ]
    },
    {
      "cell_type": "markdown",
      "metadata": {
        "id": "Ilk8wCy7E9FV",
        "colab_type": "text"
      },
      "source": [
        "##  Plot Price Predictions\n",
        "\n",
        "The plot for price predictions and raw predictions will look the same with just one difference: The x and y axis scale is changed."
      ]
    },
    {
      "cell_type": "code",
      "metadata": {
        "id": "wHi6VZRIE9Fc",
        "colab_type": "code",
        "colab": {
          "base_uri": "https://localhost:8080/",
          "height": 497
        },
        "outputId": "680da620-0f05-4824-d165-a6f0a7ddcc24"
      },
      "source": [
        "untrained_predicted_price = [convert_label_values(y) for y in preds_on_untrained]\n",
        "predicted_price = [convert_label_values(y) for y in preds_on_trained_model]\n",
        "price_test = [convert_label_values(y) for y in y_test]\n",
        "\n",
        "compare_predictions(untrained_predicted_price, predicted_price, price_test)"
      ],
      "execution_count": 49,
      "outputs": [
        {
          "output_type": "display_data",
          "data": {
            "image/png": "[encoded data removed]",
            "text/plain": [
              "<Figure size 576x576 with 1 Axes>"
            ]
          },
          "metadata": {
            "tags": [],
            "needs_background": "light"
          }
        }
      ]
    },
    {
      "cell_type": "markdown",
      "metadata": {
        "id": "RSmjvEiRlqd1",
        "colab_type": "text"
      },
      "source": [
        "## Date Completed: 3rd June 2020\n",
        "### By Atharva Jibhakate\n",
        "[Click here](https://colab.research.google.com/drive/1o1fWjtkUU6kghRBgh80Y2Str4DvrFsqZ?usp=sharing) to see this notebook in Google Colab."
      ]
    },
    {
      "cell_type": "code",
      "metadata": {
        "id": "2yLMVYybgcVB",
        "colab_type": "code",
        "colab": {}
      },
      "source": [
        ""
      ],
      "execution_count": 0,
      "outputs": []
    }
  ]
}